{
  "cells": [
    {
      "cell_type": "markdown",
      "metadata": {
        "id": "view-in-github",
        "colab_type": "text"
      },
      "source": [
        "<a href=\"https://colab.research.google.com/github/Revathireav/Python-Assignments/blob/main/Assignment_1.ipynb\" target=\"_parent\"><img src=\"https://colab.research.google.com/assets/colab-badge.svg\" alt=\"Open In Colab\"/></a>"
      ]
    },
    {
      "cell_type": "markdown",
      "metadata": {
        "id": "UTZMUlePkMpD"
      },
      "source": [
        "## Question 1"
      ]
    },
    {
      "cell_type": "markdown",
      "metadata": {
        "id": "tI2erPOskMpY"
      },
      "source": [
        "- `Take two integer numbers and return their product. If the product is greater than 1000, then return their sum if product is less than 1000 return product value only.`\n",
        "\n"
      ]
    },
    {
      "cell_type": "code",
      "execution_count": 4,
      "metadata": {
        "colab": {
          "base_uri": "https://localhost:8080/"
        },
        "id": "wTy7JWTykMpb",
        "outputId": "197fb06e-c062-420e-eacf-ed748673c532"
      },
      "outputs": [
        {
          "output_type": "stream",
          "name": "stdout",
          "text": [
            "The result is: 120\n"
          ]
        }
      ],
      "source": [
        "# Please write The solution Here for above question 1:\n",
        "\n",
        "n = 1000\n",
        "\n",
        "def calculate(a,b):\n",
        "  product = a*b\n",
        "  if product > n:\n",
        "    return a+b\n",
        "  else:\n",
        "    return product\n",
        "\n",
        "result = calculate(100,20)\n",
        "print(f'The result is: {result}')\n",
        "\n"
      ]
    },
    {
      "cell_type": "markdown",
      "metadata": {
        "id": "3gOE07_-kMpj"
      },
      "source": [
        "## question 2"
      ]
    },
    {
      "cell_type": "markdown",
      "metadata": {
        "id": "_WnOzELikMpk"
      },
      "source": [
        "- `Given a range of the first 10 numbers, Iterate from the start number to the end number, and In each iteration print the sum of the current number and previous number`\n",
        "\n",
        "Expected output:\n",
        "-----------------\n",
        "    Printing current and previous number sum in a range(10)\n",
        "    Current Number 0 Previous Number  0  Sum:  0\n",
        "    Current Number 1 Previous Number  0  Sum:  1\n",
        "    Current Number 2 Previous Number  1  Sum:  3\n",
        "    Current Number 3 Previous Number  2  Sum:  5\n",
        "    Current Number 4 Previous Number  3  Sum:  7\n",
        "    Current Number 5 Previous Number  4  Sum:  9\n",
        "    Current Number 6 Previous Number  5  Sum:  11\n",
        "    Current Number 7 Previous Number  6  Sum:  13\n",
        "    Current Number 8 Previous Number  7  Sum:  15\n",
        "    Current Number 9 Previous Number  8  Sum:  17"
      ]
    },
    {
      "cell_type": "code",
      "execution_count": 9,
      "metadata": {
        "colab": {
          "base_uri": "https://localhost:8080/"
        },
        "id": "WzRJPzO2kMpl",
        "outputId": "ec34b86d-5f91-4f05-f89f-572c7ccfbbc3"
      },
      "outputs": [
        {
          "output_type": "stream",
          "name": "stdout",
          "text": [
            "Printing current and previous number sum in a range(10)\n",
            "Current Number 0 Previous Number 0  Sum:  0\n",
            "Current Number 1 Previous Number 0  Sum:  1\n",
            "Current Number 2 Previous Number 1  Sum:  3\n",
            "Current Number 3 Previous Number 2  Sum:  5\n",
            "Current Number 4 Previous Number 3  Sum:  7\n",
            "Current Number 5 Previous Number 4  Sum:  9\n",
            "Current Number 6 Previous Number 5  Sum:  11\n",
            "Current Number 7 Previous Number 6  Sum:  13\n",
            "Current Number 8 Previous Number 7  Sum:  15\n",
            "Current Number 9 Previous Number 8  Sum:  17\n"
          ]
        }
      ],
      "source": [
        "# Please write The solution Here for above question 2:\n",
        "print('Printing current and previous number sum in a range(10)') # Title for the output\n",
        "for i in range(0,10):\n",
        "  if i == 0:\n",
        "    print(f'Current Number {i} Previous Number {i}  Sum:  {i}') # It will execute when i is equals to Zero\n",
        "  else:\n",
        "    print(f'Current Number {i} Previous Number {i-1}  Sum:  {i+(i-1)}') # It will execute when i is not equals to Zero\n",
        "\n",
        "\n"
      ]
    },
    {
      "cell_type": "markdown",
      "metadata": {
        "id": "hmH4NxNjkMpm"
      },
      "source": [
        "## question 3"
      ]
    },
    {
      "cell_type": "markdown",
      "metadata": {
        "id": "097BPP-GkMpo"
      },
      "source": [
        "Given a string and an integer number n, remove characters from a string starting from zero up to n and return a new string\n",
        "\n",
        "- Example :\n",
        "     `(\"pynative\", 4) so output must be tive.`\n",
        "     \n",
        "     `Note: n must be less than the length of the string.`"
      ]
    },
    {
      "cell_type": "code",
      "execution_count": 23,
      "metadata": {
        "colab": {
          "base_uri": "https://localhost:8080/"
        },
        "id": "n9sXWGcSkMpo",
        "outputId": "ebb81ed9-3a66-4227-f6e8-c47cfcbd5c7e"
      },
      "outputs": [
        {
          "output_type": "stream",
          "name": "stdout",
          "text": [
            "ative\n"
          ]
        }
      ],
      "source": [
        "# Please write The solution Here for above question 3:\n",
        "def remove_chars(string, n):\n",
        "  total_count = len(string)\n",
        "  if total_count >= n:\n",
        "    return string[n:]\n",
        "  else:\n",
        "    print(\"Given number should be lesser than the count of the String\")\n",
        "    return \"\"\n",
        "\n",
        "#call the function remove_chars\n",
        "result = remove_chars(\"pynative\",3)\n",
        "print(result)\n"
      ]
    },
    {
      "cell_type": "markdown",
      "metadata": {
        "id": "0z5LSP-9kMpp"
      },
      "source": [
        "## question 4"
      ]
    },
    {
      "cell_type": "markdown",
      "metadata": {
        "id": "usSgjMSekMpp"
      },
      "source": [
        "### `Given a list of numbers, return True if first and last number of a list is same`\n",
        "\n",
        "    Expected Output:\n",
        "    -------------------------------------\n",
        "\n",
        "    Given list is\n",
        "    a =  [10, 20, 30, 40, 10]\n",
        "    b = [10 , 20 , 30 , 40, 10 ]\n",
        "    result is True\n",
        "\n",
        "    Given list is  \n",
        "    a = [10, 20, 30, 40, 50]\n",
        "    b = [11 , 21 , 31 , 41 , 51 ]\n",
        "    result is False"
      ]
    },
    {
      "cell_type": "code",
      "execution_count": 33,
      "metadata": {
        "colab": {
          "base_uri": "https://localhost:8080/"
        },
        "id": "qKqwxYJkkMpq",
        "outputId": "4e7a99e4-464a-4e9f-f64f-3d18e0366ab5"
      },
      "outputs": [
        {
          "output_type": "stream",
          "name": "stdout",
          "text": [
            "True\n",
            "True\n",
            "False\n",
            "False\n"
          ]
        }
      ],
      "source": [
        "# Please write The solution Here for above question 4:\n",
        "\n",
        "def checkFirstLastNum(num):\n",
        "  if num[0] == num[-1]:\n",
        "    return True\n",
        "  else:\n",
        "    return False\n",
        "\n",
        "a = [ 10,20,30,40,10 ]\n",
        "b = [10, 20, 30, 40, 10 ]\n",
        "c = [ 10,20,30,40,50 ]\n",
        "d = [11 , 21, 31, 41, 51 ]\n",
        "\n",
        "print(checkFirstLastNum(a))\n",
        "print(checkFirstLastNum(b))\n",
        "print(checkFirstLastNum(c))\n",
        "print(checkFirstLastNum(d))\n",
        "\n",
        "\n"
      ]
    },
    {
      "cell_type": "markdown",
      "metadata": {
        "id": "clIc_D1okMpq"
      },
      "source": [
        "## question 5"
      ]
    },
    {
      "cell_type": "markdown",
      "metadata": {
        "id": "TJUGgRmPkMpr"
      },
      "source": [
        "### Given a two Python list. Iterate both lists simultaneously such that list1 should display item in original order and list2 in reverse order\n",
        "\n",
        "    list1 = [10, 20, 30, 40]\n",
        "    list2 = [100, 200, 300, 400]\n",
        "\n",
        "\n",
        "    Expected output:\n",
        "    -----------------------------\n",
        "    10 400\n",
        "    20 300\n",
        "    30 200\n",
        "    40 100"
      ]
    },
    {
      "cell_type": "code",
      "execution_count": 43,
      "metadata": {
        "colab": {
          "base_uri": "https://localhost:8080/"
        },
        "id": "sdCpQ2gAkMpr",
        "outputId": "189acd2f-3d45-497b-a170-100d14aa169c"
      },
      "outputs": [
        {
          "output_type": "stream",
          "name": "stdout",
          "text": [
            "10 400\n",
            "20 300\n",
            "30 200\n",
            "40 100\n"
          ]
        }
      ],
      "source": [
        "# Please write The solution Here for above question 5:\n",
        "\n",
        "def get_reverse_list(list1,list2):\n",
        "  if len(list1) != len(list2):\n",
        "    return \"\"\n",
        "\n",
        "  n = len(list1)\n",
        "  for i in range(n):\n",
        "    print(list1[i], list2[n-i-1])\n",
        "\n",
        "list1 = [\"10\",\"20\",\"30\",\"40\"]\n",
        "list2 = [\"100\",\"200\",\"300\",\"400\"]\n",
        "\n",
        "get_reverse_list(list1, list2)\n",
        "\n"
      ]
    },
    {
      "cell_type": "markdown",
      "metadata": {
        "id": "5dLmG6w7kMpr"
      },
      "source": [
        "## question 6"
      ]
    },
    {
      "cell_type": "markdown",
      "metadata": {
        "id": "E9EURxB3kMps"
      },
      "source": [
        "### Remove empty strings from the list of strings\n",
        "\n",
        "\n",
        "    list1 = [\"Mike\", \"\", \"Emma\", \"Kelly\", \"\", \"Brad\"]\n",
        "\n",
        "    Expected output:\n",
        "    ----------------------\n",
        "\n",
        "    [\"Mike\", \"Emma\", \"Kelly\", \"Brad\"]\n"
      ]
    },
    {
      "cell_type": "code",
      "execution_count": 53,
      "metadata": {
        "colab": {
          "base_uri": "https://localhost:8080/"
        },
        "id": "dqK5BhVVkMps",
        "outputId": "c06591c1-6e06-4503-b5e4-87e7148f7219"
      },
      "outputs": [
        {
          "output_type": "stream",
          "name": "stdout",
          "text": [
            "['Mike', 'Emma', 'Kelly', 'Brad']\n"
          ]
        }
      ],
      "source": [
        "# Please write The solution Here for above question 6:\n",
        "def removeEmptyString(list1):\n",
        "  while (\"\" in list1):\n",
        "    list1.remove(\"\")\n",
        "  return list1\n",
        "\n",
        "\n",
        "list1 = [\"Mike\", \"\", \"Emma\", \"Kelly\", \"\", \"Brad\"]\n",
        "result = removeEmptyString(list1)\n",
        "print(result)"
      ]
    },
    {
      "cell_type": "code",
      "execution_count": null,
      "metadata": {
        "id": "n_EFnoT0kMps"
      },
      "outputs": [],
      "source": [
        "# hr.viharatech@gmail.com"
      ]
    }
  ],
  "metadata": {
    "kernelspec": {
      "display_name": "Python 3 (ipykernel)",
      "language": "python",
      "name": "python3"
    },
    "language_info": {
      "codemirror_mode": {
        "name": "ipython",
        "version": 3
      },
      "file_extension": ".py",
      "mimetype": "text/x-python",
      "name": "python",
      "nbconvert_exporter": "python",
      "pygments_lexer": "ipython3",
      "version": "3.11.5"
    },
    "colab": {
      "provenance": [],
      "include_colab_link": true
    }
  },
  "nbformat": 4,
  "nbformat_minor": 0
}