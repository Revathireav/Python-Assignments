{
  "cells": [
    {
      "cell_type": "markdown",
      "metadata": {
        "id": "view-in-github",
        "colab_type": "text"
      },
      "source": [
        "<a href=\"https://colab.research.google.com/github/Revathireav/Python-Assignments/blob/main/Copy_of_Python_Strings_.ipynb\" target=\"_parent\"><img src=\"https://colab.research.google.com/assets/colab-badge.svg\" alt=\"Open In Colab\"/></a>"
      ]
    },
    {
      "cell_type": "markdown",
      "id": "b5fabd6b",
      "metadata": {
        "id": "b5fabd6b"
      },
      "source": [
        "<a href=\"https://www.viharatech.com\"><img src=\"https://miro.medium.com/v2/resize:fit:828/format:webp/1*on2Bpj6A5gfd-CzaFOAZRA.jpeg\"></a>\n",
        "\n",
        "\n",
        "- `Welcome to our interactive learning session! In this Jupyter notebook, you'll find a series of questions related to Python String Concept. To maximize your learning, please write Python code in the cell below each question and execute it. This hands-on practice will help reinforce your understanding of the concepts. Feel free to reach out if you have any questions or need assistance. Happy coding! 💻🐍 `"
      ]
    },
    {
      "cell_type": "markdown",
      "id": "db689fc2",
      "metadata": {
        "id": "db689fc2"
      },
      "source": [
        "### Question 1: Write a Python program to count the number of characters in a string without using len function.\n",
        "\n",
        "- `sample input : `\n",
        "    - `var = 'python java'`\n",
        "- `sample output :`\n",
        "    - `result : 11`"
      ]
    },
    {
      "cell_type": "code",
      "execution_count": null,
      "id": "c9ce9180",
      "metadata": {
        "id": "c9ce9180",
        "outputId": "b83244a5-ced0-4737-b54c-fc480702a20e",
        "colab": {
          "base_uri": "https://localhost:8080/"
        }
      },
      "outputs": [
        {
          "output_type": "stream",
          "name": "stdout",
          "text": [
            "11\n"
          ]
        }
      ],
      "source": [
        "# Please write The solution Here for above question 1:\n",
        "\n",
        "value = 'python java'\n",
        "count = 0\n",
        "for char in value:\n",
        "  count += 1\n",
        "\n",
        "print(count)"
      ]
    },
    {
      "cell_type": "markdown",
      "id": "46f069cc",
      "metadata": {
        "id": "46f069cc"
      },
      "source": [
        "### Question 2: Write a Python program to reverse a string without using [::-1]\n",
        "\n",
        "- `sample input : `\n",
        "    - `var = 'python'`\n",
        "- `sample output :`\n",
        "    - `result : nohtyp`"
      ]
    },
    {
      "cell_type": "code",
      "execution_count": null,
      "id": "2cde3dcc",
      "metadata": {
        "id": "2cde3dcc",
        "outputId": "5a7224a3-837a-4340-87d2-44a6356d55f0",
        "colab": {
          "base_uri": "https://localhost:8080/"
        }
      },
      "outputs": [
        {
          "output_type": "stream",
          "name": "stdout",
          "text": [
            "nohtyp\n"
          ]
        }
      ],
      "source": [
        "# Please write The solution Here for above question 2:\n",
        "\n",
        "value = 'python'\n",
        "reversed_value = ''\n",
        "\n",
        "for char in value:\n",
        "  reversed_value = char + reversed_value\n",
        "print(reversed_value)\n",
        "\n"
      ]
    },
    {
      "cell_type": "markdown",
      "id": "0f3a2ef5",
      "metadata": {
        "id": "0f3a2ef5"
      },
      "source": [
        "### Question 3: Write a Python program to check if a string is a palindrome don't use [::-1].\n",
        "\n",
        "- `sample input : `\n",
        "    - `var = 'NUN'`\n",
        "- `sample output :`\n",
        "    - `result : It is a Palindrome`\n",
        "    \n",
        "- `palindrome concept = https://www.dictionary.com/e/palindromic-word/#:~:text=A%20palindrome%20is%20a%20word,roots%20in%20the%20early%201600s.`"
      ]
    },
    {
      "cell_type": "code",
      "execution_count": null,
      "id": "74b9f01a",
      "metadata": {
        "id": "74b9f01a",
        "outputId": "7129dd94-375f-469d-9fc0-79f3bd32264c",
        "colab": {
          "base_uri": "https://localhost:8080/"
        }
      },
      "outputs": [
        {
          "output_type": "stream",
          "name": "stdout",
          "text": [
            "NUN is a Palindrome\n"
          ]
        }
      ],
      "source": [
        "# Please write The solution Here for above question 3:\n",
        "\n",
        "def find_palindrome(value):\n",
        "  left = 0\n",
        "  right = len(value) - 1\n",
        "\n",
        "  while left < right:\n",
        "    if value[left] != value[right]:\n",
        "      return False\n",
        "\n",
        "    left += 1\n",
        "    right -= 1\n",
        "\n",
        "  return True\n",
        "\n",
        "value = 'NUN'\n",
        "if(find_palindrome(value)):\n",
        "  print(f\"{value} is a Palindrome\")\n",
        "else:\n",
        "  print(f\"{value} is not a palindrome\")"
      ]
    },
    {
      "cell_type": "markdown",
      "id": "98e0fc60",
      "metadata": {
        "id": "98e0fc60"
      },
      "source": [
        "### Question 4: Write a Python program to find the most common character in a string.\n",
        "\n",
        "- `sample input : `\n",
        "    - `var = 'Hello world '`\n",
        "- `sample output :`\n",
        "    - `result : l, because l is repeating 3 times `"
      ]
    },
    {
      "cell_type": "code",
      "execution_count": null,
      "id": "d9aa4ca6",
      "metadata": {
        "id": "d9aa4ca6",
        "outputId": "175a2108-7ef9-49a6-e25d-6d56a90fa790",
        "colab": {
          "base_uri": "https://localhost:8080/"
        }
      },
      "outputs": [
        {
          "output_type": "stream",
          "name": "stdout",
          "text": [
            "The result is l, because l is repeating 3 times \n"
          ]
        }
      ],
      "source": [
        "# Please write The solution Here for above question 4:\n",
        "\n",
        "def find_common_letter(value):\n",
        "  value = value.replace(\" \",\"\").lower()\n",
        "  letter_count = {}\n",
        "\n",
        "  for char in value:\n",
        "    if char.isalpha():\n",
        "      if char in letter_count:\n",
        "        letter_count[char] += 1\n",
        "      else:\n",
        "        letter_count[char] = 1\n",
        "  most_common = max(letter_count,key=letter_count.get)\n",
        "  return most_common, letter_count[most_common]\n",
        "\n",
        "value = 'Hello World'\n",
        "letter,count = find_common_letter(value)\n",
        "print(f\"The result is {letter}, because {letter} is repeating {count} times \")\n"
      ]
    },
    {
      "cell_type": "markdown",
      "id": "17eb44eb",
      "metadata": {
        "id": "17eb44eb"
      },
      "source": [
        "### Question 5: Write a Python program to check if two strings are anagrams.\n",
        "\n",
        "- `sample input : `\n",
        "    - `var1 = 'listen'`\n",
        "    - `var2 = 'silent'`\n",
        "- `sample output :`\n",
        "    - `result : both are anagram because characters in var2 should present in var1 `"
      ]
    },
    {
      "cell_type": "code",
      "execution_count": 3,
      "id": "29f0e87e",
      "metadata": {
        "id": "29f0e87e",
        "colab": {
          "base_uri": "https://localhost:8080/"
        },
        "outputId": "43699292-0faf-49f4-d5b5-682685b1a587"
      },
      "outputs": [
        {
          "output_type": "stream",
          "name": "stdout",
          "text": [
            "Both are Anagram. Because characters in 'silent' is present in 'listen'\n"
          ]
        }
      ],
      "source": [
        "# Please write The solution Here for above question 5:\n",
        "\n",
        "\n",
        "def find_anagram(value1,value2):\n",
        "  value1 = value1.replace(' ','').lower()\n",
        "  value2 = value2.replace(' ','').lower()\n",
        "  return sorted(value1) == sorted(value2)\n",
        "\n",
        "value1 = 'listen'\n",
        "value2 = 'silent'\n",
        "\n",
        "if find_anagram(value1,value2):\n",
        "  print(f\"Both are Anagram. Because characters in '{value2}' is present in '{value1}'\")\n",
        "else:\n",
        "  print(f\"Both are not Anagram. Because characters in '{value2}' is not present in '{value1}'\")"
      ]
    },
    {
      "cell_type": "markdown",
      "id": "fac17884",
      "metadata": {
        "id": "fac17884"
      },
      "source": [
        "### Question 6: Write a Python program to remove all the vowels from a string.\n",
        "\n",
        "- `sample input : `\n",
        "    - `var = 'python'`\n",
        "- `sample output :`\n",
        "    - `result : pythn , because vowels are [AEIOUaeiou]`"
      ]
    },
    {
      "cell_type": "code",
      "execution_count": 5,
      "id": "f4b33095",
      "metadata": {
        "id": "f4b33095",
        "colab": {
          "base_uri": "https://localhost:8080/"
        },
        "outputId": "d3df319d-f31f-4bec-c822-ca77184ba88c"
      },
      "outputs": [
        {
          "output_type": "stream",
          "name": "stdout",
          "text": [
            "Result : pythn, because vowels are [AEIOUaeiou]\n"
          ]
        }
      ],
      "source": [
        "# Please write The solution Here for above question 6:\n",
        "\n",
        "def remove_vowels(value):\n",
        "  vowels = \"AEIOUaeiou\"\n",
        "  result = ''.join([char for char in value if char not in vowels])\n",
        "  return result\n",
        "value = 'python'\n",
        "get_result = remove_vowels(value)\n",
        "print(f\"Result : {get_result}, because vowels are [AEIOUaeiou]\")"
      ]
    },
    {
      "cell_type": "markdown",
      "id": "2170d6f4",
      "metadata": {
        "id": "2170d6f4"
      },
      "source": [
        "### Question 7: Write a Python program to find the longest word in a string.\n",
        "\n",
        "- `sample input : `\n",
        "    - `var = 'python is Easy Language'`\n",
        "- `sample output :`\n",
        "    - `result : Language`"
      ]
    },
    {
      "cell_type": "code",
      "execution_count": 6,
      "id": "f35de8b3",
      "metadata": {
        "id": "f35de8b3",
        "colab": {
          "base_uri": "https://localhost:8080/"
        },
        "outputId": "1bd4fb44-5422-4a20-8a3d-5cb71d21a713"
      },
      "outputs": [
        {
          "output_type": "stream",
          "name": "stdout",
          "text": [
            "Result : Language\n"
          ]
        }
      ],
      "source": [
        "# Please write The solution Here for above question 7:\n",
        "\n",
        "def find_longest_word(value):\n",
        "  words = value.split()\n",
        "  longest_word = \"\"\n",
        "\n",
        "  for word in words:\n",
        "    if len(word) > len(longest_word):\n",
        "      longest_word = word\n",
        "  return longest_word\n",
        "\n",
        "value = \"python is Easy Language\"\n",
        "longest_word = find_longest_word(value)\n",
        "print(f\"Result : {longest_word}\")"
      ]
    },
    {
      "cell_type": "markdown",
      "id": "f349bdb7",
      "metadata": {
        "id": "f349bdb7"
      },
      "source": [
        "### Question 8: Write a Python program to capitalize the first letter of each word in a string [dont use built-in-function called title].\n",
        "\n",
        "- `sample input : `\n",
        "    - `var = 'python is easy'`\n",
        "- `sample output :`\n",
        "    - `result : Python Is Easy`"
      ]
    },
    {
      "cell_type": "code",
      "execution_count": 7,
      "id": "a1b4c4e6",
      "metadata": {
        "id": "a1b4c4e6",
        "colab": {
          "base_uri": "https://localhost:8080/"
        },
        "outputId": "1a230599-09bf-4ca3-9ddd-0968d162ff99"
      },
      "outputs": [
        {
          "output_type": "stream",
          "name": "stdout",
          "text": [
            "Result : Python Is Easy\n"
          ]
        }
      ],
      "source": [
        "# Please write The solution Here for above question 8:\n",
        "\n",
        "def capitalize_first_letter(value):\n",
        "  words = value.split()\n",
        "  capitalized_words = [word[0].upper() + word[1:] for word in words if word]\n",
        "  return ' '.join(capitalized_words)\n",
        "\n",
        "value = 'python is easy'\n",
        "result = capitalize_first_letter(value)\n",
        "print(f\"Result : {result}\")\n"
      ]
    },
    {
      "cell_type": "markdown",
      "id": "d2770696",
      "metadata": {
        "id": "d2770696"
      },
      "source": [
        "### Question 9: Write a Python program to find the frequency of each character in a string.\n",
        "\n",
        "- `sample input : `\n",
        "    - `var = 'sharuk khan'`\n",
        "- `sample output :`\n",
        "    - `result : {'s': 1, 'h': 2, 'a': 2, 'r': 1, 'u': 1, 'k': 2, ' ': 1, 'n': 1}`"
      ]
    },
    {
      "cell_type": "code",
      "execution_count": 9,
      "id": "7fdc2e9c",
      "metadata": {
        "id": "7fdc2e9c",
        "colab": {
          "base_uri": "https://localhost:8080/"
        },
        "outputId": "d878726b-5294-4db9-a9c2-7fc98b1b03db"
      },
      "outputs": [
        {
          "output_type": "stream",
          "name": "stdout",
          "text": [
            "Result : ('s' : 1)\n",
            "Result : ('h' : 2)\n",
            "Result : ('a' : 2)\n",
            "Result : ('r' : 1)\n",
            "Result : ('u' : 1)\n",
            "Result : ('k' : 2)\n",
            "Result : (' ' : 1)\n",
            "Result : ('n' : 1)\n"
          ]
        }
      ],
      "source": [
        "# Please write The solution Here for above question 9:\n",
        "\n",
        "def find_frequency(value):\n",
        "  frequency = {}\n",
        "  for char in value:\n",
        "    if char in frequency:\n",
        "      frequency[char] +=1\n",
        "    else:\n",
        "      frequency[char] = 1\n",
        "  return frequency\n",
        "\n",
        "value = 'sharuk khan'\n",
        "frequency = find_frequency(value)\n",
        "for char,count in frequency.items():\n",
        "  print(f\"Result : ('{char}' : {count})\")"
      ]
    },
    {
      "cell_type": "markdown",
      "id": "5c9a3f09",
      "metadata": {
        "id": "5c9a3f09"
      },
      "source": [
        "### Question 10: write a python programme to find the sum of all the even characters based on Ascii values\n",
        "\n",
        "- `sample input : `\n",
        "    - `var = 'sharuk khan'`\n",
        "- `sample output :`\n",
        "    - `result : 464`\n"
      ]
    },
    {
      "cell_type": "code",
      "execution_count": 11,
      "id": "57c0c30e",
      "metadata": {
        "id": "57c0c30e",
        "colab": {
          "base_uri": "https://localhost:8080/"
        },
        "outputId": "00d0d15a-2ce0-44d4-a026-d16895c0e868"
      },
      "outputs": [
        {
          "output_type": "stream",
          "name": "stdout",
          "text": [
            "Result : 464\n"
          ]
        }
      ],
      "source": [
        "# Please write The solution Here for above question 10:\n",
        "\n",
        "def find_even_Ascii(value):\n",
        "    total = 0\n",
        "\n",
        "    for char in value:\n",
        "        ascii_value = ord(char)\n",
        "        if ascii_value % 2 == 0:\n",
        "            total += ascii_value\n",
        "\n",
        "    return total\n",
        "\n",
        "value = 'sharuk khan'\n",
        "result = find_even_Ascii(value)\n",
        "print(f\"Result : {result}\")\n"
      ]
    },
    {
      "cell_type": "code",
      "execution_count": null,
      "id": "0f50a5f5",
      "metadata": {
        "id": "0f50a5f5"
      },
      "outputs": [],
      "source": []
    }
  ],
  "metadata": {
    "kernelspec": {
      "display_name": "Python 3 (ipykernel)",
      "language": "python",
      "name": "python3"
    },
    "language_info": {
      "codemirror_mode": {
        "name": "ipython",
        "version": 3
      },
      "file_extension": ".py",
      "mimetype": "text/x-python",
      "name": "python",
      "nbconvert_exporter": "python",
      "pygments_lexer": "ipython3",
      "version": "3.11.5"
    },
    "colab": {
      "provenance": [],
      "include_colab_link": true
    }
  },
  "nbformat": 4,
  "nbformat_minor": 5
}