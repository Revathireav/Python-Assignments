{
  "cells": [
    {
      "cell_type": "markdown",
      "metadata": {
        "id": "view-in-github",
        "colab_type": "text"
      },
      "source": [
        "<a href=\"https://colab.research.google.com/github/Revathireav/Python-Assignments/blob/main/Python_List.ipynb\" target=\"_parent\"><img src=\"https://colab.research.google.com/assets/colab-badge.svg\" alt=\"Open In Colab\"/></a>"
      ]
    },
    {
      "cell_type": "markdown",
      "id": "b5fabd6b",
      "metadata": {
        "id": "b5fabd6b"
      },
      "source": [
        "<a href=\"https://www.viharatech.com\"><img src=\"https://miro.medium.com/v2/resize:fit:828/format:webp/1*on2Bpj6A5gfd-CzaFOAZRA.jpeg\"></a>\n",
        "\n",
        "\n",
        "- `Welcome to our interactive learning session! In this Jupyter notebook, you'll find a series of questions related to Python List Concept. To maximize your learning, please write Python code in the cell below each question and execute it. This hands-on practice will help reinforce your understanding of the concepts. Feel free to reach out if you have any questions or need assistance. Happy coding! 💻🐍 `"
      ]
    },
    {
      "cell_type": "markdown",
      "id": "db689fc2",
      "metadata": {
        "id": "db689fc2"
      },
      "source": [
        "### Question 1: Write a Python program to count the number of elements in a list without using len.\n",
        "\n",
        "\n",
        "- `sample input : `\n",
        "    - `var = [10,11,12,13]`\n",
        "- `sample output :`\n",
        "    - `result : 4`"
      ]
    },
    {
      "cell_type": "code",
      "execution_count": 2,
      "id": "c9ce9180",
      "metadata": {
        "id": "c9ce9180",
        "outputId": "5b5b8f29-9622-4781-af6a-2449620b7dc3",
        "colab": {
          "base_uri": "https://localhost:8080/"
        }
      },
      "outputs": [
        {
          "output_type": "stream",
          "name": "stdout",
          "text": [
            "Result : 4\n"
          ]
        }
      ],
      "source": [
        "# Please write The solution Here for above question 1:\n",
        "\n",
        "def find_list_count(value):\n",
        "    count = 0\n",
        "    for _ in value:\n",
        "        count += 1\n",
        "    return count\n",
        "\n",
        "value = [10, 11, 12, 13]\n",
        "result = find_list_count(value)\n",
        "print(f\"Result : {result}\")\n",
        "\n"
      ]
    },
    {
      "cell_type": "markdown",
      "id": "46f069cc",
      "metadata": {
        "id": "46f069cc"
      },
      "source": [
        "### Question 2: Write a Python program to find the maximum and minimum values in a given list.\n",
        "\n",
        "- `sample input : `\n",
        "    - `var = [10,11,12,13,14,15]`\n",
        "- `sample output :`\n",
        "    - `result : max = 15 , min = 10`"
      ]
    },
    {
      "cell_type": "code",
      "execution_count": 3,
      "id": "2cde3dcc",
      "metadata": {
        "id": "2cde3dcc",
        "outputId": "0aef9760-973c-4f90-cdfe-85858701759b",
        "colab": {
          "base_uri": "https://localhost:8080/"
        }
      },
      "outputs": [
        {
          "output_type": "stream",
          "name": "stdout",
          "text": [
            "Result : max = 15, min = 10\n"
          ]
        }
      ],
      "source": [
        "# Please write The solution Here for above question 2:\n",
        "\n",
        "def find_max_min(value):\n",
        "    max_value = value[0]\n",
        "    min_value = value[0]\n",
        "\n",
        "    for num in value[1:]:\n",
        "        if num > max_value:\n",
        "            max_value = num\n",
        "        if num < min_value:\n",
        "            min_value = num\n",
        "\n",
        "    return max_value, min_value\n",
        "\n",
        "value = [10, 11, 12, 13, 14, 15]\n",
        "max_value, min_value = find_max_min(value)\n",
        "print(f\"Result : max = {max_value}, min = {min_value}\")\n",
        "\n"
      ]
    },
    {
      "cell_type": "markdown",
      "id": "0f3a2ef5",
      "metadata": {
        "id": "0f3a2ef5"
      },
      "source": [
        "### Question 3: Write a Python program to remove the first occurrence of a specified element from a list.\n",
        "\n",
        "- `sample input : `\n",
        "    - `var = [1,2,3,4,2,5]`\n",
        "- `sample output :`\n",
        "    - `result : [1,3,4,2,5]`\n",
        "    "
      ]
    },
    {
      "cell_type": "code",
      "execution_count": 4,
      "id": "74b9f01a",
      "metadata": {
        "id": "74b9f01a",
        "outputId": "342693ea-60e9-4b6e-eb9d-8e01f49ea74c",
        "colab": {
          "base_uri": "https://localhost:8080/"
        }
      },
      "outputs": [
        {
          "output_type": "stream",
          "name": "stdout",
          "text": [
            "Result : [1, 3, 4, 2, 5]\n"
          ]
        }
      ],
      "source": [
        "# Please write The solution Here for above question 3:\n",
        "\n",
        "\n",
        "def remove_first_occurrence(value, element):\n",
        "    if element in value:\n",
        "        value.remove(element)\n",
        "    return value\n",
        "\n",
        "value = [1, 2, 3, 4, 2, 5]\n",
        "element_to_remove = 2\n",
        "result = remove_first_occurrence(value, element_to_remove)\n",
        "print(f\"Result : {result}\")\n"
      ]
    },
    {
      "cell_type": "markdown",
      "id": "98e0fc60",
      "metadata": {
        "id": "98e0fc60"
      },
      "source": [
        "### Question 4: Write a Python program to find the average of all the elements in a list.\n",
        "\n",
        "\n",
        "- `sample input : `\n",
        "    - `var = [1,2,3,4,2,5]`\n",
        "- `sample output :`\n",
        "    - `result : 2.833 `"
      ]
    },
    {
      "cell_type": "code",
      "execution_count": 6,
      "id": "5ed30f02",
      "metadata": {
        "id": "5ed30f02",
        "outputId": "77abd799-a0d0-441d-ccec-8344c46bae16",
        "colab": {
          "base_uri": "https://localhost:8080/"
        }
      },
      "outputs": [
        {
          "output_type": "stream",
          "name": "stdout",
          "text": [
            "Result : 2.833\n"
          ]
        }
      ],
      "source": [
        "# Please write The solution Here for above question 4:\n",
        "\n",
        "def find_average(value):\n",
        "    if not value:\n",
        "        return 0\n",
        "\n",
        "    total_sum = sum(value)\n",
        "    count = len(value)\n",
        "    average = total_sum / count\n",
        "    return round(average,3)\n",
        "\n",
        "value = [1, 2, 3, 4, 2, 5]\n",
        "average = find_average(value)\n",
        "print(f\"Result : {average}\")\n"
      ]
    },
    {
      "cell_type": "markdown",
      "id": "17eb44eb",
      "metadata": {
        "id": "17eb44eb"
      },
      "source": [
        "### Question 5: Write a Python program to check if a list is empty or not.\n",
        "\n",
        "\n",
        "- `sample input : `\n",
        "    - `var1 = [1,2]`\n",
        "- `sample output :`\n",
        "    - `result : Not empty`\n",
        "    \n",
        "- `sample input : `\n",
        "    - `var1 = []`\n",
        "- `sample output :`\n",
        "    - `result :empty`\n",
        "    \n",
        ""
      ]
    },
    {
      "cell_type": "code",
      "execution_count": 9,
      "id": "29f0e87e",
      "metadata": {
        "id": "29f0e87e",
        "outputId": "2dbff3b7-6e9b-4c73-a9a6-f814b8c4a512",
        "colab": {
          "base_uri": "https://localhost:8080/"
        }
      },
      "outputs": [
        {
          "output_type": "stream",
          "name": "stdout",
          "text": [
            "Result : Not Empty\n",
            "Result : Empty\n"
          ]
        }
      ],
      "source": [
        "# Please write The solution Here for above question 5:\n",
        "\n",
        "def is_empty(value):\n",
        "    return len(value) == 0\n",
        "\n",
        "var1 = [1,2]\n",
        "var2 = []\n",
        "\n",
        "print(f\"Result : {'Empty' if is_empty(var1) else 'Not Empty'}\")\n",
        "print(f\"Result : {'Empty' if is_empty(var2) else 'Not Empty'}\")"
      ]
    },
    {
      "cell_type": "markdown",
      "id": "fac17884",
      "metadata": {
        "id": "fac17884"
      },
      "source": [
        "### Question 6:  Write a Python program to find the index of a specified element in a list..\n",
        "\n",
        "- `sample input : `\n",
        "    - `var = [1,2,3,4,2,5]`\n",
        "- `sample output :`\n",
        "    - `result : 3 index is 2`"
      ]
    },
    {
      "cell_type": "code",
      "execution_count": 12,
      "id": "f4b33095",
      "metadata": {
        "id": "f4b33095",
        "outputId": "3ae06cb9-76df-4af7-8481-cb0acb6d3155",
        "colab": {
          "base_uri": "https://localhost:8080/"
        }
      },
      "outputs": [
        {
          "output_type": "stream",
          "name": "stdout",
          "text": [
            "Result : 3 index is 2\n"
          ]
        }
      ],
      "source": [
        "# Please write The solution Here for above question 6:\n",
        "\n",
        "def find_index(value, element):\n",
        "    try:\n",
        "        index = value.index(element)\n",
        "    except ValueError:\n",
        "        return f\"Element {element} not found in the list.\"\n",
        "    return index\n",
        "\n",
        "value = [1,2,3,4,2,5]\n",
        "element_to_find = 3\n",
        "index = find_index(value, element_to_find)\n",
        "print(f\"Result : {element_to_find} index is {index}\")\n",
        "\n"
      ]
    },
    {
      "cell_type": "markdown",
      "id": "2170d6f4",
      "metadata": {
        "id": "2170d6f4"
      },
      "source": [
        "### Question 7: Write a Python program to find which number is palindrome in below given list .\n",
        "\n",
        "- `sample input : `\n",
        "    - `var = [134,121,155]`\n",
        "- `sample output :`\n",
        "    - `result : 134 is not a palindome , 121 is a palindrome `"
      ]
    },
    {
      "cell_type": "code",
      "execution_count": 13,
      "id": "f35de8b3",
      "metadata": {
        "id": "f35de8b3",
        "outputId": "dbd75636-c138-48e7-f5b3-593f99454868",
        "colab": {
          "base_uri": "https://localhost:8080/"
        }
      },
      "outputs": [
        {
          "output_type": "stream",
          "name": "stdout",
          "text": [
            "Result:\n",
            "134 is not a palindrome\n",
            "121 is a palindrome\n",
            "155 is not a palindrome\n"
          ]
        }
      ],
      "source": [
        "# Please write The solution Here for above question 7:\n",
        "\n",
        "def is_palindrome(num):\n",
        "    str_num = str(num)\n",
        "    return str_num == str_num[::-1]\n",
        "\n",
        "def check_palindromes(value):\n",
        "    results = []\n",
        "    for num in value:\n",
        "        if is_palindrome(num):\n",
        "            results.append(f\"{num} is a palindrome\")\n",
        "        else:\n",
        "            results.append(f\"{num} is not a palindrome\")\n",
        "    return results\n",
        "\n",
        "value = [134, 121, 155]\n",
        "result = check_palindromes(value)\n",
        "\n",
        "print(\"Result:\")\n",
        "for res in result:\n",
        "    print(res)\n"
      ]
    },
    {
      "cell_type": "markdown",
      "id": "f349bdb7",
      "metadata": {
        "id": "f349bdb7"
      },
      "source": [
        "### Question 8: Write a Python program to find the common elements between two lists.\n",
        "\n",
        "- `sample input : `\n",
        "    - `var1 = [1,2,3,4,10]`\n",
        "    - `var2 = [10,11,12,14]`\n",
        "- `sample output :`\n",
        "    - `result : 10`"
      ]
    },
    {
      "cell_type": "code",
      "execution_count": 14,
      "id": "a1b4c4e6",
      "metadata": {
        "id": "a1b4c4e6",
        "outputId": "154a2372-1c54-42fe-a490-192f1f6405e6",
        "colab": {
          "base_uri": "https://localhost:8080/"
        }
      },
      "outputs": [
        {
          "output_type": "stream",
          "name": "stdout",
          "text": [
            "Result:\n",
            "10\n"
          ]
        }
      ],
      "source": [
        "# Please write The solution Here for above question 8:\n",
        "\n",
        "def find_common_elements(value1, value2):\n",
        "    set1 = set(value1)\n",
        "    set2 = set(value2)\n",
        "\n",
        "    common_elements = set1.intersection(set2)\n",
        "\n",
        "    return common_elements\n",
        "\n",
        "value1 = [1, 2, 3, 4, 10]\n",
        "value2 = [10, 11, 12, 14]\n",
        "common_elements = find_common_elements(value1, value2)\n",
        "\n",
        "print(\"Result:\")\n",
        "for element in common_elements:\n",
        "    print(element)\n"
      ]
    },
    {
      "cell_type": "markdown",
      "id": "d2770696",
      "metadata": {
        "id": "d2770696"
      },
      "source": [
        "### Question 9: Write a Python program to remove the duplicates from a list\n",
        "\n",
        "- `sample input : `\n",
        "    - `var = [10,11,12,10,12,24]`\n",
        "- `sample output :`\n",
        "    - `result : [10,11,12,24]`"
      ]
    },
    {
      "cell_type": "code",
      "execution_count": 16,
      "id": "7fdc2e9c",
      "metadata": {
        "id": "7fdc2e9c",
        "outputId": "f71d4594-56f5-4e8d-caa4-7a4d5b954316",
        "colab": {
          "base_uri": "https://localhost:8080/"
        }
      },
      "outputs": [
        {
          "output_type": "stream",
          "name": "stdout",
          "text": [
            "Result : [10, 11, 12, 24]\n"
          ]
        }
      ],
      "source": [
        "# Please write The solution Here for above question 9:\n",
        "\n",
        "def remove_duplicates(value):\n",
        "    seen = set()\n",
        "    result = []\n",
        "    for item in value:\n",
        "        if item not in seen:\n",
        "            seen.add(item)\n",
        "            result.append(item)\n",
        "    return result\n",
        "\n",
        "value = [10, 11, 12, 10, 12, 24]\n",
        "result = remove_duplicates(value)\n",
        "print(f\"Result : {result}\")"
      ]
    },
    {
      "cell_type": "markdown",
      "id": "5c9a3f09",
      "metadata": {
        "id": "5c9a3f09"
      },
      "source": [
        "### Question 10:  Write a Python program to sort a list of strings in Ascii Order [Ascending order]\n",
        "\n",
        "\n",
        "- `sample input : `\n",
        "    - `var = ['a' , 'c' , 'b']`\n",
        "- `sample output :`\n",
        "    - `result : ['a' , 'b' , 'c']`\n"
      ]
    },
    {
      "cell_type": "code",
      "execution_count": 17,
      "id": "57c0c30e",
      "metadata": {
        "id": "57c0c30e",
        "outputId": "674f0d10-0c4c-42c1-a5c0-72900603e119",
        "colab": {
          "base_uri": "https://localhost:8080/"
        }
      },
      "outputs": [
        {
          "output_type": "stream",
          "name": "stdout",
          "text": [
            "Result: ['a', 'b', 'c']\n"
          ]
        }
      ],
      "source": [
        "# Please write The solution Here for above question 10:\n",
        "\n",
        "def sort_list(value):\n",
        "    return sorted(value)\n",
        "\n",
        "input_list = ['a', 'c', 'b']\n",
        "sorted_list = sort_list(input_list)\n",
        "print(f\"Result: {sorted_list}\")"
      ]
    }
  ],
  "metadata": {
    "kernelspec": {
      "display_name": "Python 3 (ipykernel)",
      "language": "python",
      "name": "python3"
    },
    "language_info": {
      "codemirror_mode": {
        "name": "ipython",
        "version": 3
      },
      "file_extension": ".py",
      "mimetype": "text/x-python",
      "name": "python",
      "nbconvert_exporter": "python",
      "pygments_lexer": "ipython3",
      "version": "3.11.5"
    },
    "colab": {
      "provenance": [],
      "include_colab_link": true
    }
  },
  "nbformat": 4,
  "nbformat_minor": 5
}