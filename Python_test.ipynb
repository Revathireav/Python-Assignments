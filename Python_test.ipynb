{
  "nbformat": 4,
  "nbformat_minor": 0,
  "metadata": {
    "colab": {
      "provenance": [],
      "authorship_tag": "ABX9TyMd2MbtNlJHwq1/pssgspuM",
      "include_colab_link": true
    },
    "kernelspec": {
      "name": "python3",
      "display_name": "Python 3"
    },
    "language_info": {
      "name": "python"
    }
  },
  "cells": [
    {
      "cell_type": "markdown",
      "metadata": {
        "id": "view-in-github",
        "colab_type": "text"
      },
      "source": [
        "<a href=\"https://colab.research.google.com/github/Revathireav/Python-Assignments/blob/main/Python_test.ipynb\" target=\"_parent\"><img src=\"https://colab.research.google.com/assets/colab-badge.svg\" alt=\"Open In Colab\"/></a>"
      ]
    },
    {
      "cell_type": "code",
      "execution_count": null,
      "metadata": {
        "id": "o5Ms1-J6AG-4"
      },
      "outputs": [],
      "source": []
    },
    {
      "cell_type": "markdown",
      "source": [
        "What is the output of the following code?\n",
        "x = [1, 2, 3, 4]\n",
        "print(x[1:3])\n",
        "\n",
        "a) [1, 2]\n",
        "b) [2, 3]\n",
        "c) [1, 2, 3]\n",
        "d) [2, 3, 4]\n"
      ],
      "metadata": {
        "id": "mHNtc4aOAP2W"
      }
    },
    {
      "cell_type": "markdown",
      "source": [
        "d) [2,3,4]"
      ],
      "metadata": {
        "id": "WyT_rjdUA1ZR"
      }
    },
    {
      "cell_type": "markdown",
      "source": [
        "Which of the following data types is immutable?\n",
        "a) List\n",
        "b) Dictionary\n",
        "c) Set\n",
        "d) Tuple\n"
      ],
      "metadata": {
        "id": "cZY2w4ssBAPj"
      }
    },
    {
      "cell_type": "markdown",
      "source": [
        "d) Tuple\n"
      ],
      "metadata": {
        "id": "c4b4_L_VBQ7i"
      }
    },
    {
      "cell_type": "markdown",
      "source": [],
      "metadata": {
        "id": "igS6JnmxBTd3"
      }
    },
    {
      "cell_type": "markdown",
      "source": [
        "What is the output of the following code?\n",
        "x = \"hello\"\n",
        "print(x[::-1])\n",
        "\n",
        "a) olleh\n",
        "b) hello\n",
        "c) ehllo\n",
        "d) Error\n"
      ],
      "metadata": {
        "id": "rFSInipHBZzY"
      }
    },
    {
      "cell_type": "markdown",
      "source": [
        "a)olleh"
      ],
      "metadata": {
        "id": "zzXBYeetBbdo"
      }
    },
    {
      "cell_type": "markdown",
      "source": [],
      "metadata": {
        "id": "BIqTDLt-B8YV"
      }
    },
    {
      "cell_type": "markdown",
      "source": [
        "Which of the following statements is true about Python functions?\n",
        "a) A function in Python can return multiple values\n",
        "b) A function in Python must always return a value\n",
        "c) A function in Python can return at most one value\n",
        "d) A function in Python cannot return a value\n"
      ],
      "metadata": {
        "id": "HMJ5-PUgB9Uj"
      }
    },
    {
      "cell_type": "markdown",
      "source": [
        "a) A function in python can return multiple values"
      ],
      "metadata": {
        "id": "n10U4XatCAEF"
      }
    },
    {
      "cell_type": "markdown",
      "source": [
        "Which of the following statements creates a dictionary in Python?\n",
        "a) dict = {}\n",
        "b) dict = []\n",
        "c) dict = ()\n",
        "d) dict = set()\n"
      ],
      "metadata": {
        "id": "WlXtN2_HCH6z"
      }
    },
    {
      "cell_type": "markdown",
      "source": [
        "a) dict = {}"
      ],
      "metadata": {
        "id": "LjL_Jz0XCS8h"
      }
    },
    {
      "cell_type": "markdown",
      "source": [
        "What is the correct syntax for defining a class in Python?\n",
        "a) class MyClass[]:\n",
        "b) class MyClass:\n",
        "c) def MyClass:\n",
        "d) function MyClass:\n"
      ],
      "metadata": {
        "id": "ogQgKqIxCfmI"
      }
    },
    {
      "cell_type": "markdown",
      "source": [
        "c) def MyClass:"
      ],
      "metadata": {
        "id": "1LkojNhYClMS"
      }
    },
    {
      "cell_type": "markdown",
      "source": [
        "What does the len() function do?\n",
        "a) It returns the length of a list or string\n",
        "b) It returns the maximum value in a list\n",
        "c) It returns the minimum value in a list\n",
        "d) It converts a number to a string\n"
      ],
      "metadata": {
        "id": "C2Nqu5u3CpR0"
      }
    },
    {
      "cell_type": "markdown",
      "source": [
        "a) It returns the length of a list or string"
      ],
      "metadata": {
        "id": "VimVZ33QCzvJ"
      }
    },
    {
      "cell_type": "markdown",
      "source": [
        "Which of the following methods adds an element to the end of a list?\n",
        "a) list.add(x)\n",
        "b) list.append(x)\n",
        "c) list.insert(x)\n",
        "d) list.extend(x)\n"
      ],
      "metadata": {
        "id": "GKxTj9SgC1ar"
      }
    },
    {
      "cell_type": "markdown",
      "source": [
        "b) list.append(x)"
      ],
      "metadata": {
        "id": "F3fhFDGzDBh5"
      }
    },
    {
      "cell_type": "markdown",
      "source": [
        "Which of the following is used to handle exceptions in Python?\n",
        "a) try and except\n",
        "b) catch and except\n",
        "c) try and catch\n",
        "d) do and except\n"
      ],
      "metadata": {
        "id": "kYM7fJo4DDuu"
      }
    },
    {
      "cell_type": "markdown",
      "source": [
        "a) try and except"
      ],
      "metadata": {
        "id": "RQnZk-72DR5F"
      }
    },
    {
      "cell_type": "markdown",
      "source": [
        "What is the result of the following code?\n",
        "a = [1, 2, 3]\n",
        "b = a\n",
        "b.append(4)\n",
        "print(a)\n",
        "\n",
        "a) [1, 2, 3]\n",
        "b) [1, 2, 3, 4]\n",
        "c) [4, 1, 2, 3]\n",
        "d) [1, 2, 3, 4, 4]"
      ],
      "metadata": {
        "id": "v5T50OBrDLxX"
      }
    },
    {
      "cell_type": "markdown",
      "source": [
        "b) [1, 2, 3, 4]\n"
      ],
      "metadata": {
        "id": "8G0lwratDxPs"
      }
    },
    {
      "cell_type": "markdown",
      "source": [
        "Write a Python Programme to calculate the number of Digits and Letters in a string\n",
        "Sample Input = 123  -> Sample Output = 6"
      ],
      "metadata": {
        "id": "_LNBTBvFDjCj"
      }
    },
    {
      "cell_type": "code",
      "source": [
        "def find_string_count(value):\n",
        "  digit_count = 0\n",
        "  letter_count = 0\n",
        "\n",
        "  for char in value:\n",
        "    if char.isdigit():\n",
        "      digit_count += 1\n",
        "    elif char.isalpha():\n",
        "      letter_count +=1\n",
        "  return digit_count, letter_count\n",
        "\n",
        "value = 'python123'\n",
        "digit_count,letter_count = find_string_count(value)\n",
        "print(f\"The count of a letters are {letter_count} and the count of digits are {digit_count}\")"
      ],
      "metadata": {
        "colab": {
          "base_uri": "https://localhost:8080/"
        },
        "id": "bBe827qhD3zP",
        "outputId": "a4a102da-c980-410d-80d7-69ee891d28fc"
      },
      "execution_count": 7,
      "outputs": [
        {
          "output_type": "stream",
          "name": "stdout",
          "text": [
            "The count of a letters are 6 and the count of digits are 3\n"
          ]
        }
      ]
    },
    {
      "cell_type": "markdown",
      "source": [
        "Given an integer  n, perform the following conditional actions:\n",
        "Write Python Logic\n",
        "If n is odd, print Weird\n",
        "If n is even and in the inclusive range of 2 to 5 , print Not Weird\n",
        "If n is even and in the inclusive range of 6 to 20 , print Weird\n",
        "If n is even and greater than 20 , print Not Weird\n",
        "Input Format\n",
        "-----------------\n",
        "A single line containing a positive integer, n.\n",
        "\n",
        "Constraints\n",
        "-------------\n",
        "1<=n<=100\n",
        "Output Format\n",
        "----------------\n",
        "Print Weird if the number is weird. Otherwise, print Not Weird.\n",
        "\n",
        "Sample Input 0\n",
        "----------------\n",
        "3\n",
        "Sample Output 0\n",
        "-----------------\n",
        "Weird\n",
        "Explanation 0\n",
        "---------------------\n",
        "n=3  is odd and odd numbers are weird, so print Weird.\n",
        "Sample Input 1\n",
        "-------------------------\n",
        "24\n",
        "Sample Output 1\n",
        "-------------------------\n",
        "Not Weird\n",
        "Explanation 1\n",
        "---------------------------\n",
        "n > 20  and n  is even, so it is not weird.\n"
      ],
      "metadata": {
        "id": "ATlDv9cyGU5k"
      }
    },
    {
      "cell_type": "code",
      "source": [
        "def calculate_odd_even_range(n):\n",
        "  if n % 2 == 0:\n",
        "    if n >= 2 and n <= 5:\n",
        "      return \"Not Weird\"\n",
        "    elif n >= 6 and n <= 20:\n",
        "      return \"weird\"\n",
        "    elif n > 20:\n",
        "      return \"Not weird\"\n",
        "  else:\n",
        "    return \"Weird\"\n",
        "\n",
        "n = 40\n",
        "result = calculate_odd_even_range(n)\n",
        "print(result)"
      ],
      "metadata": {
        "colab": {
          "base_uri": "https://localhost:8080/"
        },
        "id": "3t3ZdANKGgYu",
        "outputId": "768b7d64-a5e8-4f74-de58-af95e9713da9"
      },
      "execution_count": 20,
      "outputs": [
        {
          "output_type": "stream",
          "name": "stdout",
          "text": [
            "Not weird\n"
          ]
        }
      ]
    },
    {
      "cell_type": "markdown",
      "source": [
        "Write a Python program to count Uppercase, Lowercase, special character and numeric values in a given string.\n",
        "sample input : data sCience 12444\n",
        "sample output :\n",
        "upper case : 1\n",
        "lower case : 10\n",
        "numbers : 5\n",
        "space : 2\n"
      ],
      "metadata": {
        "id": "3WOwBFPUJmb5"
      }
    },
    {
      "cell_type": "code",
      "source": [
        "def find_count(input):\n",
        "  uppercase_count = 0\n",
        "  lowercase_count = 0\n",
        "  number_count = 0\n",
        "  space_count = 0\n",
        "\n",
        "  for char in input:\n",
        "    if char.isupper():\n",
        "      uppercase_count += 1\n",
        "    elif char.islower():\n",
        "      lowercase_count += 1\n",
        "    elif char.isspace():\n",
        "      space_count += 1\n",
        "    elif char.isdigit():\n",
        "      number_count += 1\n",
        "  return uppercase_count, lowercase_count, space_count, number_count\n",
        "\n",
        "input = 'data sCience 12444'\n",
        "uppercase_count, lowercase_count, space_count, number_count = find_count(input)\n",
        "print(f\"Count of Upper Case : {uppercase_count}\")\n",
        "print(f\"Count of Lower Case : {lowercase_count}\")\n",
        "print(f\"Count of Space : {space_count}\")\n",
        "print(f\"Count of Numbers : {number_count}\")"
      ],
      "metadata": {
        "colab": {
          "base_uri": "https://localhost:8080/"
        },
        "id": "BEXoDTdyJ5m1",
        "outputId": "0aa71002-4c9f-4d71-d87a-083144f7e087"
      },
      "execution_count": 25,
      "outputs": [
        {
          "output_type": "stream",
          "name": "stdout",
          "text": [
            "Count of Upper Case : 1\n",
            "Count of Lower Case : 10\n",
            "Count of Space : 2\n",
            "Count of Numbers : 5\n"
          ]
        }
      ]
    },
    {
      "cell_type": "markdown",
      "source": [
        "Write a Python function to convert a given string to all uppercase if it contains at least 2 uppercase characters in the first 4 characters\n",
        "\n",
        "sample input : PYTHON data science\n",
        "sample output : PYTHON DATA SCIENCE\n",
        "\n",
        "\n",
        "sample input : Python data science\n",
        "sample output : python data science\n",
        "\n"
      ],
      "metadata": {
        "id": "U1ISPMqAMF4Q"
      }
    },
    {
      "cell_type": "code",
      "source": [],
      "metadata": {
        "id": "ob0t378vMSKU"
      },
      "execution_count": null,
      "outputs": []
    },
    {
      "cell_type": "markdown",
      "source": [
        "print each value from the list with its index\n",
        "input = [10,11,50,34]\n",
        "Expected output = [100 , 111 , 502 , 343]\n"
      ],
      "metadata": {
        "id": "3W73nvTbMqAx"
      }
    },
    {
      "cell_type": "code",
      "source": [
        "input_list = [10, 11, 50, 34]\n",
        "output_list = []\n",
        "\n",
        "for index, value in enumerate(input_list):\n",
        "    combined_value = int(f\"{value}{index}\")\n",
        "    output_list.append(combined_value)\n",
        "\n",
        "print(output_list)\n"
      ],
      "metadata": {
        "colab": {
          "base_uri": "https://localhost:8080/"
        },
        "id": "6ZhgDmDEMrj4",
        "outputId": "85ad5f7b-1289-4d9d-f18b-1c4cf0e1f9ec"
      },
      "execution_count": 29,
      "outputs": [
        {
          "output_type": "stream",
          "name": "stdout",
          "text": [
            "[100, 111, 502, 343]\n"
          ]
        }
      ]
    },
    {
      "cell_type": "markdown",
      "source": [
        "L =  [ [ 12, 34, 25], [1, 45, 0] ]\n",
        "# find only the odd values from the above list\n",
        " Out = [25, 1, 45]\n"
      ],
      "metadata": {
        "id": "ijKW7rgbNdQt"
      }
    },
    {
      "cell_type": "code",
      "source": [
        "input_list = [[12, 34, 25], [1, 45, 0]]\n",
        "output_list = [value for sublist in input_list for value in sublist if value % 2 != 0]\n",
        "\n",
        "print(output_list)\n"
      ],
      "metadata": {
        "colab": {
          "base_uri": "https://localhost:8080/"
        },
        "id": "y94mZ9doN8NS",
        "outputId": "bbf9c377-f64a-4286-faf7-928810deecf4"
      },
      "execution_count": 30,
      "outputs": [
        {
          "output_type": "stream",
          "name": "stdout",
          "text": [
            "[25, 1, 45]\n"
          ]
        }
      ]
    }
  ]
}